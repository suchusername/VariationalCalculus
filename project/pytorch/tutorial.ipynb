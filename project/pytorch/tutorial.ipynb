{
 "cells": [
  {
   "cell_type": "markdown",
   "metadata": {},
   "source": [
    "# PyTorchZeroToAll course"
   ]
  },
  {
   "cell_type": "markdown",
   "metadata": {},
   "source": [
    "## 1. Introduction"
   ]
  },
  {
   "cell_type": "code",
   "execution_count": 4,
   "metadata": {},
   "outputs": [
    {
     "name": "stdout",
     "output_type": "stream",
     "text": [
      "1.5.0\n"
     ]
    }
   ],
   "source": [
    "import torch\n",
    "import numpy as np\n",
    "print(torch.__version__)"
   ]
  },
  {
   "cell_type": "markdown",
   "metadata": {},
   "source": [
    "## 2. Backpropogaton"
   ]
  },
  {
   "cell_type": "code",
   "execution_count": 23,
   "metadata": {},
   "outputs": [],
   "source": [
    "x_data = [1.0, 2.0, 3.0]\n",
    "y_data = [2.0, 4.0, 6.0]\n",
    "\n",
    "w = torch.tensor([3.0], requires_grad=True)\n",
    "\n",
    "def forward(x):\n",
    "    return x * w\n",
    "\n",
    "def loss(x, y):\n",
    "    y_pred = forward(x)\n",
    "    return (y_pred - y) * (y_pred - y)"
   ]
  },
  {
   "cell_type": "code",
   "execution_count": 24,
   "metadata": {},
   "outputs": [
    {
     "name": "stdout",
     "output_type": "stream",
     "text": [
      "tensor([2.0488], requires_grad=True)\n"
     ]
    }
   ],
   "source": [
    "for it in range(10):\n",
    "    for x_val, y_val in zip(x_data, y_data):\n",
    "        L = loss(x_val, y_val)\n",
    "        L.backward()\n",
    "        w.data = w.data - 0.01 * w.grad.data\n",
    "        # manually setting gradient data to 0, because pytorch adds the new grad data to already existing one\n",
    "        w.grad.data.zero_()\n",
    "        \n",
    "print(w)"
   ]
  },
  {
   "cell_type": "markdown",
   "metadata": {},
   "source": [
    "## 3. Linear regression"
   ]
  },
  {
   "cell_type": "code",
   "execution_count": 137,
   "metadata": {},
   "outputs": [],
   "source": [
    "x_data = torch.tensor([1.0, 2.0, 3.0, 4.0]).resize_((4,1))\n",
    "y_data = torch.tensor([2.0, 4.0, 6.0, 8.0]).resize_((4,1))"
   ]
  },
  {
   "cell_type": "code",
   "execution_count": 138,
   "metadata": {},
   "outputs": [],
   "source": [
    "class MyModel(torch.nn.Module):\n",
    "    \n",
    "    def __init__(self):\n",
    "        super(MyModel, self).__init__()\n",
    "        self.linear = torch.nn.Linear(1,1)\n",
    "        \n",
    "    def forward(self, x):\n",
    "        y_pred = self.linear(x)\n",
    "        return y_pred"
   ]
  },
  {
   "cell_type": "code",
   "execution_count": 154,
   "metadata": {},
   "outputs": [],
   "source": [
    "model = MyModel()"
   ]
  },
  {
   "cell_type": "code",
   "execution_count": 155,
   "metadata": {},
   "outputs": [],
   "source": [
    "loss = torch.nn.MSELoss()\n",
    "optimizer = torch.optim.SGD(model.parameters(), lr=0.1, momentum=0.9)"
   ]
  },
  {
   "cell_type": "code",
   "execution_count": 158,
   "metadata": {},
   "outputs": [],
   "source": [
    "for epoch in range(100):\n",
    "    y_pred = model(x_data)\n",
    "    L = loss(y_pred, y_data)\n",
    "    optimizer.zero_grad()\n",
    "    L.backward()\n",
    "    optimizer.step()\n"
   ]
  },
  {
   "cell_type": "code",
   "execution_count": 159,
   "metadata": {},
   "outputs": [
    {
     "data": {
      "text/plain": [
       "tensor([[10.0000]], grad_fn=<AddmmBackward>)"
      ]
     },
     "execution_count": 159,
     "metadata": {},
     "output_type": "execute_result"
    }
   ],
   "source": [
    "model.forward(torch.tensor([[5.0]]))"
   ]
  },
  {
   "cell_type": "markdown",
   "metadata": {},
   "source": [
    "## 4. Deep networks"
   ]
  },
  {
   "cell_type": "code",
   "execution_count": 174,
   "metadata": {},
   "outputs": [],
   "source": [
    "from sklearn.datasets import load_digits\n",
    "from sklearn import preprocessing"
   ]
  },
  {
   "cell_type": "code",
   "execution_count": 165,
   "metadata": {},
   "outputs": [
    {
     "data": {
      "text/plain": [
       "dict_keys(['DESCR', 'images', 'data', 'target_names', 'target'])"
      ]
     },
     "execution_count": 165,
     "metadata": {},
     "output_type": "execute_result"
    }
   ],
   "source": [
    "raw_data = load_digits()\n",
    "raw_data.keys()"
   ]
  },
  {
   "cell_type": "code",
   "execution_count": 191,
   "metadata": {},
   "outputs": [
    {
     "name": "stdout",
     "output_type": "stream",
     "text": [
      "torch.Size([1797, 64]) torch.Size([1797, 10])\n"
     ]
    }
   ],
   "source": [
    "x_data = torch.tensor(raw_data['data']).float()\n",
    "lb = preprocessing.LabelBinarizer()\n",
    "lb.fit(raw_data['target'])\n",
    "y_data = torch.tensor(lb.transform(raw_data['target'])).float()\n",
    "print(x_data.size(), y_data.size())"
   ]
  },
  {
   "cell_type": "code",
   "execution_count": 236,
   "metadata": {},
   "outputs": [],
   "source": [
    "class DigitsNet(torch.nn.Module):\n",
    "    \n",
    "    def __init__(self):\n",
    "        super(DigitsNet, self).__init__()\n",
    "        self.linear1 = torch.nn.Linear(64,20)\n",
    "        self.linear2 = torch.nn.Linear(20,14)\n",
    "        self.linear3 = torch.nn.Linear(14,10)\n",
    "        self.sigmoid = torch.nn.Sigmoid()\n",
    "        \n",
    "    def forward(self, x):\n",
    "        out1 = self.sigmoid(self.linear1(x))\n",
    "        out2 = self.sigmoid(self.linear2(out1))\n",
    "        y_pred = self.sigmoid(self.linear3(out2))\n",
    "        return y_pred"
   ]
  },
  {
   "cell_type": "code",
   "execution_count": 237,
   "metadata": {},
   "outputs": [],
   "source": [
    "net = DigitsNet()\n",
    "loss = torch.nn.MSELoss()\n",
    "optimizer = torch.optim.SGD(net.parameters(), lr=0.1, momentum=0.9)"
   ]
  },
  {
   "cell_type": "code",
   "execution_count": 238,
   "metadata": {},
   "outputs": [
    {
     "name": "stdout",
     "output_type": "stream",
     "text": [
      "Iteration 500: loss = 0.08895809203386307\n",
      "Iteration 1000: loss = 0.08617626875638962\n",
      "Iteration 1500: loss = 0.07686088234186172\n",
      "Iteration 2000: loss = 0.06309647858142853\n",
      "Iteration 2500: loss = 0.049990005791187286\n",
      "Iteration 3000: loss = 0.038157302886247635\n",
      "Iteration 3500: loss = 0.027999071404337883\n",
      "Iteration 4000: loss = 0.02158457599580288\n",
      "Iteration 4500: loss = 0.017362335696816444\n",
      "Iteration 5000: loss = 0.013987812213599682\n",
      "Iteration 5500: loss = 0.01091040764003992\n",
      "Iteration 6000: loss = 0.008506925776600838\n",
      "Iteration 6500: loss = 0.006867634132504463\n",
      "Iteration 7000: loss = 0.005742269102483988\n",
      "Iteration 7500: loss = 0.00493005383759737\n",
      "Iteration 8000: loss = 0.004306115675717592\n",
      "Iteration 8500: loss = 0.003816240234300494\n",
      "Iteration 9000: loss = 0.003426517825573683\n",
      "Iteration 9500: loss = 0.0031064224895089865\n",
      "Iteration 10000: loss = 0.0028391522355377674\n"
     ]
    }
   ],
   "source": [
    "for i in range(10000):\n",
    "    L = loss(net.forward(x_data), y_data)\n",
    "    optimizer.zero_grad()\n",
    "    L.backward()\n",
    "    optimizer.step()\n",
    "    if (i+1) % 500 == 0:\n",
    "        print(\"Iteration {0}: loss = {1}\".format(i+1, L.item()))"
   ]
  },
  {
   "cell_type": "code",
   "execution_count": 239,
   "metadata": {},
   "outputs": [
    {
     "name": "stdout",
     "output_type": "stream",
     "text": [
      "15.0\n"
     ]
    }
   ],
   "source": [
    "res = net.forward(x_data).round().detach().numpy()\n",
    "true_res = np.array(y_data)\n",
    "print(np.sum(np.abs(res - true_res)))"
   ]
  },
  {
   "cell_type": "code",
   "execution_count": null,
   "metadata": {},
   "outputs": [],
   "source": []
  }
 ],
 "metadata": {
  "kernelspec": {
   "display_name": "Python 3",
   "language": "python",
   "name": "python3"
  },
  "language_info": {
   "codemirror_mode": {
    "name": "ipython",
    "version": 3
   },
   "file_extension": ".py",
   "mimetype": "text/x-python",
   "name": "python",
   "nbconvert_exporter": "python",
   "pygments_lexer": "ipython3",
   "version": "3.5.6"
  }
 },
 "nbformat": 4,
 "nbformat_minor": 2
}
